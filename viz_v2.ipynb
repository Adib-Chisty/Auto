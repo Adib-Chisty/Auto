{
 "cells": [
  {
   "cell_type": "code",
   "execution_count": 1,
   "metadata": {},
   "outputs": [],
   "source": [
    "%matplotlib widget\n",
    "import numpy as np\n",
    "import pandas as pd\n",
    "\n",
    "import matplotlib.pyplot as plt\n",
    "import seaborn as sns"
   ]
  },
  {
   "cell_type": "code",
   "execution_count": 2,
   "metadata": {},
   "outputs": [
    {
     "data": {
      "text/html": [
       "<div>\n",
       "<style scoped>\n",
       "    .dataframe tbody tr th:only-of-type {\n",
       "        vertical-align: middle;\n",
       "    }\n",
       "\n",
       "    .dataframe tbody tr th {\n",
       "        vertical-align: top;\n",
       "    }\n",
       "\n",
       "    .dataframe thead th {\n",
       "        text-align: right;\n",
       "    }\n",
       "</style>\n",
       "<table border=\"1\" class=\"dataframe\">\n",
       "  <thead>\n",
       "    <tr style=\"text-align: right;\">\n",
       "      <th></th>\n",
       "      <th>GEO</th>\n",
       "      <th>Summary statistics</th>\n",
       "      <th>VALUE</th>\n",
       "    </tr>\n",
       "    <tr>\n",
       "      <th>REF_DATE</th>\n",
       "      <th></th>\n",
       "      <th></th>\n",
       "      <th></th>\n",
       "    </tr>\n",
       "  </thead>\n",
       "  <tbody>\n",
       "    <tr>\n",
       "      <th>2012</th>\n",
       "      <td>Canada</td>\n",
       "      <td>Operating revenue</td>\n",
       "      <td>5635.7</td>\n",
       "    </tr>\n",
       "    <tr>\n",
       "      <th>2012</th>\n",
       "      <td>Canada</td>\n",
       "      <td>Operating expenses</td>\n",
       "      <td>4855.5</td>\n",
       "    </tr>\n",
       "    <tr>\n",
       "      <th>2012</th>\n",
       "      <td>Canada</td>\n",
       "      <td>Salaries, wages, commissions and benefits</td>\n",
       "      <td>903.7</td>\n",
       "    </tr>\n",
       "    <tr>\n",
       "      <th>2012</th>\n",
       "      <td>Canada</td>\n",
       "      <td>Operating profit margin</td>\n",
       "      <td>13.8</td>\n",
       "    </tr>\n",
       "    <tr>\n",
       "      <th>2013</th>\n",
       "      <td>Canada</td>\n",
       "      <td>Operating revenue</td>\n",
       "      <td>5416.1</td>\n",
       "    </tr>\n",
       "    <tr>\n",
       "      <th>...</th>\n",
       "      <td>...</td>\n",
       "      <td>...</td>\n",
       "      <td>...</td>\n",
       "    </tr>\n",
       "    <tr>\n",
       "      <th>2018</th>\n",
       "      <td>Northwest Territories</td>\n",
       "      <td>Operating profit margin</td>\n",
       "      <td>NaN</td>\n",
       "    </tr>\n",
       "    <tr>\n",
       "      <th>2018</th>\n",
       "      <td>Nunavut</td>\n",
       "      <td>Operating revenue</td>\n",
       "      <td>4.9</td>\n",
       "    </tr>\n",
       "    <tr>\n",
       "      <th>2018</th>\n",
       "      <td>Nunavut</td>\n",
       "      <td>Operating expenses</td>\n",
       "      <td>4.5</td>\n",
       "    </tr>\n",
       "    <tr>\n",
       "      <th>2018</th>\n",
       "      <td>Nunavut</td>\n",
       "      <td>Salaries, wages, commissions and benefits</td>\n",
       "      <td>NaN</td>\n",
       "    </tr>\n",
       "    <tr>\n",
       "      <th>2018</th>\n",
       "      <td>Nunavut</td>\n",
       "      <td>Operating profit margin</td>\n",
       "      <td>8.5</td>\n",
       "    </tr>\n",
       "  </tbody>\n",
       "</table>\n",
       "<p>236 rows × 3 columns</p>\n",
       "</div>"
      ],
      "text/plain": [
       "                            GEO                         Summary statistics  \\\n",
       "REF_DATE                                                                     \n",
       "2012                     Canada                          Operating revenue   \n",
       "2012                     Canada                         Operating expenses   \n",
       "2012                     Canada  Salaries, wages, commissions and benefits   \n",
       "2012                     Canada                    Operating profit margin   \n",
       "2013                     Canada                          Operating revenue   \n",
       "...                         ...                                        ...   \n",
       "2018      Northwest Territories                    Operating profit margin   \n",
       "2018                    Nunavut                          Operating revenue   \n",
       "2018                    Nunavut                         Operating expenses   \n",
       "2018                    Nunavut  Salaries, wages, commissions and benefits   \n",
       "2018                    Nunavut                    Operating profit margin   \n",
       "\n",
       "           VALUE  \n",
       "REF_DATE          \n",
       "2012      5635.7  \n",
       "2012      4855.5  \n",
       "2012       903.7  \n",
       "2012        13.8  \n",
       "2013      5416.1  \n",
       "...          ...  \n",
       "2018         NaN  \n",
       "2018         4.9  \n",
       "2018         4.5  \n",
       "2018         NaN  \n",
       "2018         8.5  \n",
       "\n",
       "[236 rows x 3 columns]"
      ]
     },
     "execution_count": 2,
     "metadata": {},
     "output_type": "execute_result"
    }
   ],
   "source": [
    "df = pd.read_csv(\"21100012.csv\",index_col='REF_DATE',usecols=['REF_DATE','GEO','Summary statistics','VALUE'],na_values='')\n",
    "#df = df.replace(np.nan, '', regex=True)\n",
    "df\n"
   ]
  },
  {
   "cell_type": "code",
   "execution_count": 3,
   "metadata": {},
   "outputs": [],
   "source": [
    "op_revs = df.loc[df['Summary statistics'] == 'Operating revenue']\n",
    "op_exs = df.loc[df['Summary statistics'] == 'Operating expenses']\n",
    "wages = df.loc[df['Summary statistics'] == 'Salaries, wages, commissions and benefits']\n",
    "op_pms = df.loc[df['Summary statistics'] == 'Operating profit margin']\n"
   ]
  },
  {
   "cell_type": "code",
   "execution_count": 4,
   "metadata": {},
   "outputs": [],
   "source": [
    "op_revs_CA = op_revs.loc[op_revs['GEO'] == 'Canada']\n",
    "op_revs_NU = op_revs.loc[op_revs['GEO'] == 'Nunavut']\n",
    "op_revs_NL = op_revs.loc[op_revs['GEO'] == 'Newfoundland and Labrador']\n",
    "op_revs_PE = op_revs.loc[op_revs['GEO'] == 'Prince Edward Island']\n",
    "op_revs_NS = op_revs.loc[op_revs['GEO'] == 'Nova Scotia']\n",
    "op_revs_NB = op_revs.loc[op_revs['GEO'] == 'New Brunswick']\n",
    "op_revs_QC = op_revs.loc[op_revs['GEO'] == 'Quebec']\n",
    "op_revs_ON = op_revs.loc[op_revs['GEO'] == 'Ontario']\n",
    "op_revs_MB = op_revs.loc[op_revs['GEO'] == 'Manitoba']\n",
    "op_revs_SK = op_revs.loc[op_revs['GEO'] == 'Saskatchewan']\n",
    "op_revs_AB = op_revs.loc[op_revs['GEO'] == 'Alberta']\n",
    "op_revs_BC = op_revs.loc[op_revs['GEO'] == 'British Columbia']\n",
    "op_revs_YT = op_revs.loc[op_revs['GEO'] == 'Yukon']\n",
    "op_revs_NT = op_revs.loc[op_revs['GEO'] == 'Northwest Territories']\n"
   ]
  },
  {
   "cell_type": "code",
   "execution_count": 5,
   "metadata": {},
   "outputs": [],
   "source": [
    "op_exs_CA = op_exs.loc[op_exs['GEO'] == 'Canada']\n",
    "op_exs_NU = op_exs.loc[op_exs['GEO'] == 'Nunavut']\n",
    "op_exs_NL = op_exs.loc[op_exs['GEO'] == 'Newfoundland and Labrador']\n",
    "op_exs_PE = op_exs.loc[op_exs['GEO'] == 'Prince Edward Island']\n",
    "op_exs_NS = op_exs.loc[op_exs['GEO'] == 'Nova Scotia']\n",
    "op_exs_NB = op_exs.loc[op_exs['GEO'] == 'New Brunswick']\n",
    "op_exs_QC = op_exs.loc[op_exs['GEO'] == 'Quebec']\n",
    "op_exs_ON = op_exs.loc[op_exs['GEO'] == 'Ontario']\n",
    "op_exs_MB = op_exs.loc[op_exs['GEO'] == 'Manitoba']\n",
    "op_exs_SK = op_exs.loc[op_exs['GEO'] == 'Saskatchewan']\n",
    "op_exs_AB = op_exs.loc[op_exs['GEO'] == 'Alberta']\n",
    "op_exs_BC = op_exs.loc[op_exs['GEO'] == 'British Columbia']\n",
    "op_exs_YT = op_exs.loc[op_exs['GEO'] == 'Yukon']\n",
    "op_exs_NT = op_exs.loc[op_exs['GEO'] == 'Northwest Territories']"
   ]
  },
  {
   "cell_type": "code",
   "execution_count": 6,
   "metadata": {},
   "outputs": [],
   "source": [
    "wages_CA = wages.loc[wages['GEO'] == 'Canada']\n",
    "wages_NU = wages.loc[wages['GEO'] == 'Nunavut']\n",
    "wages_NL = wages.loc[wages['GEO'] == 'Newfoundland and Labrador']\n",
    "wages_PE = wages.loc[wages['GEO'] == 'Prince Edward Island']\n",
    "wages_NS = wages.loc[wages['GEO'] == 'Nova Scotia']\n",
    "wages_NB = wages.loc[wages['GEO'] == 'New Brunswick']\n",
    "wages_QC = wages.loc[wages['GEO'] == 'Quebec']\n",
    "wages_ON = wages.loc[wages['GEO'] == 'Ontario']\n",
    "wages_MB = wages.loc[wages['GEO'] == 'Manitoba']\n",
    "wages_SK = wages.loc[wages['GEO'] == 'Saskatchewan']\n",
    "wages_AB = wages.loc[wages['GEO'] == 'Alberta']\n",
    "wages_BC = wages.loc[wages['GEO'] == 'British Columbia']\n",
    "wages_YT = wages.loc[wages['GEO'] == 'Yukon']\n",
    "wages_NT = wages.loc[wages['GEO'] == 'Northwest Territories']"
   ]
  },
  {
   "cell_type": "code",
   "execution_count": 7,
   "metadata": {},
   "outputs": [],
   "source": [
    "op_pms_CA = op_pms.loc[op_pms['GEO'] == 'Canada']\n",
    "op_pms_NU = op_pms.loc[op_pms['GEO'] == 'Nunavut']\n",
    "op_pms_NL = op_pms.loc[op_pms['GEO'] == 'Newfoundland and Labrador']\n",
    "op_pms_PE = op_pms.loc[op_pms['GEO'] == 'Prince Edward Island']\n",
    "op_pms_NS = op_pms.loc[op_pms['GEO'] == 'Nova Scotia']\n",
    "op_pms_NB = op_pms.loc[op_pms['GEO'] == 'New Brunswick']\n",
    "op_pms_QC = op_pms.loc[op_pms['GEO'] == 'Quebec']\n",
    "op_pms_ON = op_pms.loc[op_pms['GEO'] == 'Ontario']\n",
    "op_pms_MB = op_pms.loc[op_pms['GEO'] == 'Manitoba']\n",
    "op_pms_SK = op_pms.loc[op_pms['GEO'] == 'Saskatchewan']\n",
    "op_pms_AB = op_pms.loc[op_pms['GEO'] == 'Alberta']\n",
    "op_pms_BC = op_pms.loc[op_pms['GEO'] == 'British Columbia']\n",
    "op_pms_YT = op_pms.loc[op_pms['GEO'] == 'Yukon']\n",
    "op_pms_NT = op_pms.loc[op_pms['GEO'] == 'Northwest Territories']"
   ]
  },
  {
   "cell_type": "code",
   "execution_count": 8,
   "metadata": {},
   "outputs": [
    {
     "data": {
      "application/vnd.jupyter.widget-view+json": {
       "model_id": "3b36a64d4ccd4fdb9f22d981260eb220",
       "version_major": 2,
       "version_minor": 0
      },
      "text/plain": [
       "Canvas(toolbar=Toolbar(toolitems=[('Home', 'Reset original view', 'home', 'home'), ('Back', 'Back to previous …"
      ]
     },
     "metadata": {},
     "output_type": "display_data"
    },
    {
     "data": {
      "text/plain": [
       "Text(0, 0.5, 'Operating Revenue $x1M')"
      ]
     },
     "execution_count": 8,
     "metadata": {},
     "output_type": "execute_result"
    }
   ],
   "source": [
    "#grab plot handle\n",
    "ax = op_revs_CA.plot(title='Operating Revenues vs Time',figsize=(7,5))\n",
    "#use ax for subsequent plots\n",
    "op_revs_NU.plot(ax=ax)\n",
    "op_revs_NL.plot(ax=ax)\n",
    "op_revs_PE.plot(ax=ax)\n",
    "op_revs_NS.plot(ax=ax)\n",
    "op_revs_NB.plot(ax=ax)\n",
    "op_revs_QC.plot(ax=ax)\n",
    "op_revs_ON.plot(ax=ax)\n",
    "op_revs_MB.plot(ax=ax)\n",
    "op_revs_SK.plot(ax=ax)\n",
    "op_revs_AB.plot(ax=ax)\n",
    "op_revs_BC.plot(ax=ax)\n",
    "op_revs_YT.plot(ax=ax)\n",
    "op_revs_NT.plot(ax=ax)\n",
    "ax.legend([\"CA\", \"NU\",\"NL\",\"PE\",\"NS\",\"NB\",\"QC\",\"ON\",\"MB\",\"SK\",\"AB\",\"BC\",\"YT\",\"NT\"],bbox_to_anchor=(1.0005, 1));\n",
    "ax.set_xlabel(\"Year\")\n",
    "ax.set_ylabel(\"Operating Revenue $x1M\")"
   ]
  },
  {
   "cell_type": "code",
   "execution_count": 9,
   "metadata": {},
   "outputs": [
    {
     "data": {
      "application/vnd.jupyter.widget-view+json": {
       "model_id": "d4387e0feca4460fbc1e31ce27f39c67",
       "version_major": 2,
       "version_minor": 0
      },
      "text/plain": [
       "Canvas(toolbar=Toolbar(toolitems=[('Home', 'Reset original view', 'home', 'home'), ('Back', 'Back to previous …"
      ]
     },
     "metadata": {},
     "output_type": "display_data"
    },
    {
     "data": {
      "text/plain": [
       "Text(0, 0.5, 'Operating Expenses $x1M')"
      ]
     },
     "execution_count": 9,
     "metadata": {},
     "output_type": "execute_result"
    }
   ],
   "source": [
    "#grab plot handle\n",
    "ax = op_exs_CA.plot(title='Operating Expenses vs Time',figsize=(7,5))\n",
    "#use ax for subsequent plots\n",
    "op_exs_NU.plot(ax=ax)\n",
    "op_exs_NL.plot(ax=ax)\n",
    "op_exs_PE.plot(ax=ax)\n",
    "op_exs_NS.plot(ax=ax)\n",
    "op_exs_NB.plot(ax=ax)\n",
    "op_exs_QC.plot(ax=ax)\n",
    "op_exs_ON.plot(ax=ax)\n",
    "op_exs_MB.plot(ax=ax)\n",
    "op_exs_SK.plot(ax=ax)\n",
    "op_exs_AB.plot(ax=ax)\n",
    "op_exs_BC.plot(ax=ax)\n",
    "op_exs_YT.plot(ax=ax)\n",
    "op_exs_NT.plot(ax=ax)\n",
    "ax.legend([\"CA\", \"NU\",\"NL\",\"PE\",\"NS\",\"NB\",\"QC\",\"ON\",\"MB\",\"SK\",\"AB\",\"BC\",\"YT\",\"NT\"],bbox_to_anchor=(1.0005, 1));\n",
    "ax.set_xlabel(\"Year\")\n",
    "ax.set_ylabel(\"Operating Expenses $x1M\")"
   ]
  },
  {
   "cell_type": "code",
   "execution_count": 10,
   "metadata": {},
   "outputs": [
    {
     "data": {
      "application/vnd.jupyter.widget-view+json": {
       "model_id": "8fc6bb7af7094cf0807526d4f2227df9",
       "version_major": 2,
       "version_minor": 0
      },
      "text/plain": [
       "Canvas(toolbar=Toolbar(toolitems=[('Home', 'Reset original view', 'home', 'home'), ('Back', 'Back to previous …"
      ]
     },
     "metadata": {},
     "output_type": "display_data"
    },
    {
     "data": {
      "text/plain": [
       "Text(0, 0.5, 'Wages $x1M')"
      ]
     },
     "execution_count": 10,
     "metadata": {},
     "output_type": "execute_result"
    }
   ],
   "source": [
    "#grab plot handle\n",
    "ax = wages_CA.plot(title='Salaries, wages, commissions and benefits vs Time',figsize=(7,5))\n",
    "#use ax for subsequent plots\n",
    "wages_NU.plot(ax=ax)\n",
    "wages_NL.plot(ax=ax)\n",
    "wages_PE.plot(ax=ax)\n",
    "wages_NS.plot(ax=ax)\n",
    "wages_NB.plot(ax=ax)\n",
    "wages_QC.plot(ax=ax)\n",
    "wages_ON.plot(ax=ax)\n",
    "wages_MB.plot(ax=ax)\n",
    "wages_SK.plot(ax=ax)\n",
    "wages_AB.plot(ax=ax)\n",
    "wages_BC.plot(ax=ax)\n",
    "wages_YT.plot(ax=ax)\n",
    "wages_NT.plot(ax=ax)\n",
    "ax.legend([\"CA\", \"NU\",\"NL\",\"PE\",\"NS\",\"NB\",\"QC\",\"ON\",\"MB\",\"SK\",\"AB\",\"BC\",\"YT\",\"NT\"],bbox_to_anchor=(1.0005, 1));\n",
    "ax.set_xlabel(\"Year\")\n",
    "ax.set_ylabel(\"Wages $x1M\")"
   ]
  },
  {
   "cell_type": "code",
   "execution_count": 11,
   "metadata": {},
   "outputs": [
    {
     "data": {
      "application/vnd.jupyter.widget-view+json": {
       "model_id": "45ee92fe76fd455fbcb9d9fa09ce4646",
       "version_major": 2,
       "version_minor": 0
      },
      "text/plain": [
       "Canvas(toolbar=Toolbar(toolitems=[('Home', 'Reset original view', 'home', 'home'), ('Back', 'Back to previous …"
      ]
     },
     "metadata": {},
     "output_type": "display_data"
    },
    {
     "data": {
      "text/plain": [
       "Text(0, 0.5, 'Profit Margin (%)')"
      ]
     },
     "execution_count": 11,
     "metadata": {},
     "output_type": "execute_result"
    }
   ],
   "source": [
    "#grab plot handle\n",
    "ax = op_pms_CA.plot(title='Operational profit margin vs Time',figsize=(7,5))\n",
    "#use ax for subsequent plots\n",
    "op_pms_NU.plot(ax=ax)\n",
    "op_pms_NL.plot(ax=ax)\n",
    "op_pms_PE.plot(ax=ax)\n",
    "op_pms_NS.plot(ax=ax)\n",
    "op_pms_NB.plot(ax=ax)\n",
    "op_pms_QC.plot(ax=ax)\n",
    "op_pms_ON.plot(ax=ax)\n",
    "op_pms_MB.plot(ax=ax)\n",
    "op_pms_SK.plot(ax=ax)\n",
    "op_pms_AB.plot(ax=ax)\n",
    "op_pms_BC.plot(ax=ax)\n",
    "op_pms_YT.plot(ax=ax)\n",
    "op_pms_NT.plot(ax=ax)\n",
    "ax.legend([\"CA\", \"NU\",\"NL\",\"PE\",\"NS\",\"NB\",\"QC\",\"ON\",\"MB\",\"SK\",\"AB\",\"BC\",\"YT\",\"NT\"],bbox_to_anchor=(1.0005, 1));\n",
    "ax.set_xlabel(\"Year\")\n",
    "ax.set_ylabel(\"Profit Margin (%)\")"
   ]
  },
  {
   "cell_type": "code",
   "execution_count": null,
   "metadata": {},
   "outputs": [],
   "source": []
  }
 ],
 "metadata": {
  "kernelspec": {
   "display_name": "Python 3",
   "language": "python",
   "name": "python3"
  },
  "language_info": {
   "codemirror_mode": {
    "name": "ipython",
    "version": 3
   },
   "file_extension": ".py",
   "mimetype": "text/x-python",
   "name": "python",
   "nbconvert_exporter": "python",
   "pygments_lexer": "ipython3",
   "version": "3.7.6"
  },
  "widgets": {
   "application/vnd.jupyter.widget-state+json": {
    "state": {
     "0047d3896b5f4e4aa0624b9e02821021": {
      "model_module": "jupyter-matplotlib",
      "model_module_version": "^0.7.4",
      "model_name": "ToolbarModel",
      "state": {
       "layout": "IPY_MODEL_3daf32a15be2476c899ad6b148eb51a0",
       "toolitems": [
        [
         "Home",
         "Reset original view",
         "home",
         "home"
        ],
        [
         "Back",
         "Back to previous view",
         "arrow-left",
         "back"
        ],
        [
         "Forward",
         "Forward to next view",
         "arrow-right",
         "forward"
        ],
        [
         "Pan",
         "Pan axes with left mouse, zoom with right",
         "arrows",
         "pan"
        ],
        [
         "Zoom",
         "Zoom to rectangle",
         "square-o",
         "zoom"
        ],
        [
         "Download",
         "Download plot",
         "floppy-o",
         "save_figure"
        ]
       ]
      }
     },
     "0f00676e69e147c6936b3060864f1963": {
      "model_module": "@jupyter-widgets/base",
      "model_module_version": "1.2.0",
      "model_name": "LayoutModel",
      "state": {}
     },
     "13cf432f56814ffcbbd333d50ee459bd": {
      "model_module": "@jupyter-widgets/base",
      "model_module_version": "1.2.0",
      "model_name": "LayoutModel",
      "state": {}
     },
     "28d199dd4b1e47798a6545177cf96daa": {
      "model_module": "@jupyter-widgets/base",
      "model_module_version": "1.2.0",
      "model_name": "LayoutModel",
      "state": {}
     },
     "3b36a64d4ccd4fdb9f22d981260eb220": {
      "model_module": "jupyter-matplotlib",
      "model_module_version": "^0.7.4",
      "model_name": "MPLCanvasModel",
      "state": {
       "_figure_label": "Figure 1",
       "_height": 515,
       "_width": 835,
       "layout": "IPY_MODEL_627b74fd5e484a78a5dc82372b4e9b47",
       "toolbar": "IPY_MODEL_47aaba67ea4b495c9f2713600659977d",
       "toolbar_position": "left"
      }
     },
     "3daf32a15be2476c899ad6b148eb51a0": {
      "model_module": "@jupyter-widgets/base",
      "model_module_version": "1.2.0",
      "model_name": "LayoutModel",
      "state": {}
     },
     "45a2ad19c7f24ae29d01b89d601175c4": {
      "model_module": "@jupyter-widgets/base",
      "model_module_version": "1.2.0",
      "model_name": "LayoutModel",
      "state": {}
     },
     "45ee92fe76fd455fbcb9d9fa09ce4646": {
      "model_module": "jupyter-matplotlib",
      "model_module_version": "^0.7.4",
      "model_name": "MPLCanvasModel",
      "state": {
       "_figure_label": "Figure 4",
       "_height": 509,
       "_message": "x=2017.3       y=13.4993     ",
       "_width": 832,
       "layout": "IPY_MODEL_d306c6b8764b40d88651c67fa18c0363",
       "toolbar": "IPY_MODEL_f1b130f1a61340578a1ef2169f03cbb9",
       "toolbar_position": "left"
      }
     },
     "46546838957042939fdadc791b4cd18a": {
      "model_module": "@jupyter-widgets/base",
      "model_module_version": "1.2.0",
      "model_name": "LayoutModel",
      "state": {}
     },
     "47aaba67ea4b495c9f2713600659977d": {
      "model_module": "jupyter-matplotlib",
      "model_module_version": "^0.7.4",
      "model_name": "ToolbarModel",
      "state": {
       "layout": "IPY_MODEL_913ce46c21a04c2f85be69148f81c22a",
       "toolitems": [
        [
         "Home",
         "Reset original view",
         "home",
         "home"
        ],
        [
         "Back",
         "Back to previous view",
         "arrow-left",
         "back"
        ],
        [
         "Forward",
         "Forward to next view",
         "arrow-right",
         "forward"
        ],
        [
         "Pan",
         "Pan axes with left mouse, zoom with right",
         "arrows",
         "pan"
        ],
        [
         "Zoom",
         "Zoom to rectangle",
         "square-o",
         "zoom"
        ],
        [
         "Download",
         "Download plot",
         "floppy-o",
         "save_figure"
        ]
       ]
      }
     },
     "53a43c39593449babbea518292a91e55": {
      "model_module": "@jupyter-widgets/base",
      "model_module_version": "1.2.0",
      "model_name": "LayoutModel",
      "state": {}
     },
     "58671902e6d841a8a0c5842880fb24d8": {
      "model_module": "jupyter-matplotlib",
      "model_module_version": "^0.7.4",
      "model_name": "MPLCanvasModel",
      "state": {
       "_figure_label": "Figure 2",
       "_height": 500,
       "_message": "x=2013.57      y=5015.6      ",
       "_width": 700,
       "layout": "IPY_MODEL_53a43c39593449babbea518292a91e55",
       "toolbar": "IPY_MODEL_0047d3896b5f4e4aa0624b9e02821021",
       "toolbar_position": "left"
      }
     },
     "5868240dc4ec4eba9c26c21f2bf45d0f": {
      "model_module": "jupyter-matplotlib",
      "model_module_version": "^0.7.4",
      "model_name": "ToolbarModel",
      "state": {
       "layout": "IPY_MODEL_6675cb01b68f493bbc9f8eaa576adf1a",
       "toolitems": [
        [
         "Home",
         "Reset original view",
         "home",
         "home"
        ],
        [
         "Back",
         "Back to previous view",
         "arrow-left",
         "back"
        ],
        [
         "Forward",
         "Forward to next view",
         "arrow-right",
         "forward"
        ],
        [
         "Pan",
         "Pan axes with left mouse, zoom with right",
         "arrows",
         "pan"
        ],
        [
         "Zoom",
         "Zoom to rectangle",
         "square-o",
         "zoom"
        ],
        [
         "Download",
         "Download plot",
         "floppy-o",
         "save_figure"
        ]
       ]
      }
     },
     "627b74fd5e484a78a5dc82372b4e9b47": {
      "model_module": "@jupyter-widgets/base",
      "model_module_version": "1.2.0",
      "model_name": "LayoutModel",
      "state": {}
     },
     "661700250c994bab819226c4b93e63ed": {
      "model_module": "@jupyter-widgets/base",
      "model_module_version": "1.2.0",
      "model_name": "LayoutModel",
      "state": {}
     },
     "6675cb01b68f493bbc9f8eaa576adf1a": {
      "model_module": "@jupyter-widgets/base",
      "model_module_version": "1.2.0",
      "model_name": "LayoutModel",
      "state": {}
     },
     "6c554b4aa3b446b89f02877273754a65": {
      "model_module": "@jupyter-widgets/base",
      "model_module_version": "1.2.0",
      "model_name": "LayoutModel",
      "state": {}
     },
     "78656b6e1fee4ab4bfbb45f40866cf94": {
      "model_module": "jupyter-matplotlib",
      "model_module_version": "^0.7.4",
      "model_name": "MPLCanvasModel",
      "state": {
       "_figure_label": "Figure 4",
       "_height": 500,
       "_image_mode": "diff",
       "_message": "x=2013.54      y=9.79884     ",
       "_width": 700,
       "layout": "IPY_MODEL_28d199dd4b1e47798a6545177cf96daa",
       "toolbar": "IPY_MODEL_d573502a7c284108ac8e8da4c94c888e",
       "toolbar_position": "left"
      }
     },
     "7d0962faf165413ab85b82fbae36e1d3": {
      "model_module": "@jupyter-widgets/base",
      "model_module_version": "1.2.0",
      "model_name": "LayoutModel",
      "state": {}
     },
     "80427d054c454712917cd6628a7e29c3": {
      "model_module": "jupyter-matplotlib",
      "model_module_version": "^0.7.4",
      "model_name": "ToolbarModel",
      "state": {
       "layout": "IPY_MODEL_0f00676e69e147c6936b3060864f1963",
       "toolitems": [
        [
         "Home",
         "Reset original view",
         "home",
         "home"
        ],
        [
         "Back",
         "Back to previous view",
         "arrow-left",
         "back"
        ],
        [
         "Forward",
         "Forward to next view",
         "arrow-right",
         "forward"
        ],
        [
         "Pan",
         "Pan axes with left mouse, zoom with right",
         "arrows",
         "pan"
        ],
        [
         "Zoom",
         "Zoom to rectangle",
         "square-o",
         "zoom"
        ],
        [
         "Download",
         "Download plot",
         "floppy-o",
         "save_figure"
        ]
       ]
      }
     },
     "8fc6bb7af7094cf0807526d4f2227df9": {
      "model_module": "jupyter-matplotlib",
      "model_module_version": "^0.7.4",
      "model_name": "MPLCanvasModel",
      "state": {
       "_figure_label": "Figure 3",
       "_height": 507,
       "_width": 840,
       "layout": "IPY_MODEL_6c554b4aa3b446b89f02877273754a65",
       "toolbar": "IPY_MODEL_80427d054c454712917cd6628a7e29c3",
       "toolbar_position": "left"
      }
     },
     "913ce46c21a04c2f85be69148f81c22a": {
      "model_module": "@jupyter-widgets/base",
      "model_module_version": "1.2.0",
      "model_name": "LayoutModel",
      "state": {}
     },
     "b8a949cf402141f88b2f20578a5d3cfd": {
      "model_module": "@jupyter-widgets/base",
      "model_module_version": "1.2.0",
      "model_name": "LayoutModel",
      "state": {}
     },
     "baf7b51d1ac94445bf36f8c3a689d5ca": {
      "model_module": "jupyter-matplotlib",
      "model_module_version": "^0.7.4",
      "model_name": "ToolbarModel",
      "state": {
       "layout": "IPY_MODEL_7d0962faf165413ab85b82fbae36e1d3",
       "toolitems": [
        [
         "Home",
         "Reset original view",
         "home",
         "home"
        ],
        [
         "Back",
         "Back to previous view",
         "arrow-left",
         "back"
        ],
        [
         "Forward",
         "Forward to next view",
         "arrow-right",
         "forward"
        ],
        [
         "Pan",
         "Pan axes with left mouse, zoom with right",
         "arrows",
         "pan"
        ],
        [
         "Zoom",
         "Zoom to rectangle",
         "square-o",
         "zoom"
        ],
        [
         "Download",
         "Download plot",
         "floppy-o",
         "save_figure"
        ]
       ]
      }
     },
     "d306c6b8764b40d88651c67fa18c0363": {
      "model_module": "@jupyter-widgets/base",
      "model_module_version": "1.2.0",
      "model_name": "LayoutModel",
      "state": {}
     },
     "d4387e0feca4460fbc1e31ce27f39c67": {
      "model_module": "jupyter-matplotlib",
      "model_module_version": "^0.7.4",
      "model_name": "MPLCanvasModel",
      "state": {
       "_figure_label": "Figure 2",
       "_height": 513,
       "_width": 839,
       "layout": "IPY_MODEL_13cf432f56814ffcbbd333d50ee459bd",
       "toolbar": "IPY_MODEL_baf7b51d1ac94445bf36f8c3a689d5ca",
       "toolbar_position": "left"
      }
     },
     "d573502a7c284108ac8e8da4c94c888e": {
      "model_module": "jupyter-matplotlib",
      "model_module_version": "^0.7.4",
      "model_name": "ToolbarModel",
      "state": {
       "layout": "IPY_MODEL_fa3c5dc0e2874305b68bd27de22585f7",
       "toolitems": [
        [
         "Home",
         "Reset original view",
         "home",
         "home"
        ],
        [
         "Back",
         "Back to previous view",
         "arrow-left",
         "back"
        ],
        [
         "Forward",
         "Forward to next view",
         "arrow-right",
         "forward"
        ],
        [
         "Pan",
         "Pan axes with left mouse, zoom with right",
         "arrows",
         "pan"
        ],
        [
         "Zoom",
         "Zoom to rectangle",
         "square-o",
         "zoom"
        ],
        [
         "Download",
         "Download plot",
         "floppy-o",
         "save_figure"
        ]
       ]
      }
     },
     "e3c07d8985964f22bbeb0f75cf0542e9": {
      "model_module": "jupyter-matplotlib",
      "model_module_version": "^0.7.4",
      "model_name": "ToolbarModel",
      "state": {
       "layout": "IPY_MODEL_45a2ad19c7f24ae29d01b89d601175c4",
       "toolitems": [
        [
         "Home",
         "Reset original view",
         "home",
         "home"
        ],
        [
         "Back",
         "Back to previous view",
         "arrow-left",
         "back"
        ],
        [
         "Forward",
         "Forward to next view",
         "arrow-right",
         "forward"
        ],
        [
         "Pan",
         "Pan axes with left mouse, zoom with right",
         "arrows",
         "pan"
        ],
        [
         "Zoom",
         "Zoom to rectangle",
         "square-o",
         "zoom"
        ],
        [
         "Download",
         "Download plot",
         "floppy-o",
         "save_figure"
        ]
       ]
      }
     },
     "e965ae24697740609c06b06825f2f973": {
      "model_module": "jupyter-matplotlib",
      "model_module_version": "^0.7.4",
      "model_name": "MPLCanvasModel",
      "state": {
       "_figure_label": "Figure 1",
       "_height": 500,
       "_message": "x=2013.59      y=5564.68     ",
       "_width": 700,
       "layout": "IPY_MODEL_661700250c994bab819226c4b93e63ed",
       "toolbar": "IPY_MODEL_e3c07d8985964f22bbeb0f75cf0542e9",
       "toolbar_position": "left"
      }
     },
     "f1b130f1a61340578a1ef2169f03cbb9": {
      "model_module": "jupyter-matplotlib",
      "model_module_version": "^0.7.4",
      "model_name": "ToolbarModel",
      "state": {
       "layout": "IPY_MODEL_b8a949cf402141f88b2f20578a5d3cfd",
       "toolitems": [
        [
         "Home",
         "Reset original view",
         "home",
         "home"
        ],
        [
         "Back",
         "Back to previous view",
         "arrow-left",
         "back"
        ],
        [
         "Forward",
         "Forward to next view",
         "arrow-right",
         "forward"
        ],
        [
         "Pan",
         "Pan axes with left mouse, zoom with right",
         "arrows",
         "pan"
        ],
        [
         "Zoom",
         "Zoom to rectangle",
         "square-o",
         "zoom"
        ],
        [
         "Download",
         "Download plot",
         "floppy-o",
         "save_figure"
        ]
       ]
      }
     },
     "fa3c5dc0e2874305b68bd27de22585f7": {
      "model_module": "@jupyter-widgets/base",
      "model_module_version": "1.2.0",
      "model_name": "LayoutModel",
      "state": {}
     },
     "fdb8b574f2634a2daf9d2020364fb741": {
      "model_module": "jupyter-matplotlib",
      "model_module_version": "^0.7.4",
      "model_name": "MPLCanvasModel",
      "state": {
       "_figure_label": "Figure 3",
       "_height": 500,
       "_image_mode": "diff",
       "_message": "x=2013.56      y=348.111     ",
       "_width": 700,
       "layout": "IPY_MODEL_46546838957042939fdadc791b4cd18a",
       "toolbar": "IPY_MODEL_5868240dc4ec4eba9c26c21f2bf45d0f",
       "toolbar_position": "left"
      }
     }
    },
    "version_major": 2,
    "version_minor": 0
   }
  }
 },
 "nbformat": 4,
 "nbformat_minor": 4
}
